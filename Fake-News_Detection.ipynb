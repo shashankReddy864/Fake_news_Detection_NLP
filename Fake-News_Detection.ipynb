{
 "cells": [
  {
   "cell_type": "markdown",
   "id": "07bdc8c5-8a92-4521-a906-6da3a48283c2",
   "metadata": {},
   "source": [
    "# Importing the Libraries"
   ]
  },
  {
   "cell_type": "code",
   "execution_count": 44,
   "id": "1debbabb-5990-4b60-ab52-02ede2bd05e3",
   "metadata": {},
   "outputs": [],
   "source": [
    "import pandas as pd\n",
    "import numpy as np\n",
    "from sklearn.model_selection import train_test_split\n",
    "from sklearn.metrics import accuracy_score\n",
    "from tqdm.notebook import tqdm_notebook\n",
    "import time\n",
    "import matplotlib.pyplot as plt"
   ]
  },
  {
   "cell_type": "code",
   "execution_count": 11,
   "id": "25b06b39-0e58-444e-b4b9-a4bb52e0c0f4",
   "metadata": {},
   "outputs": [],
   "source": [
    "df=pd.read_csv('train.csv')"
   ]
  },
  {
   "cell_type": "code",
   "execution_count": 12,
   "id": "13daca1b-848c-42db-8d3b-c3369502f746",
   "metadata": {},
   "outputs": [
    {
     "data": {
      "text/html": [
       "<div>\n",
       "<style scoped>\n",
       "    .dataframe tbody tr th:only-of-type {\n",
       "        vertical-align: middle;\n",
       "    }\n",
       "\n",
       "    .dataframe tbody tr th {\n",
       "        vertical-align: top;\n",
       "    }\n",
       "\n",
       "    .dataframe thead th {\n",
       "        text-align: right;\n",
       "    }\n",
       "</style>\n",
       "<table border=\"1\" class=\"dataframe\">\n",
       "  <thead>\n",
       "    <tr style=\"text-align: right;\">\n",
       "      <th></th>\n",
       "      <th>id</th>\n",
       "      <th>title</th>\n",
       "      <th>author</th>\n",
       "      <th>text</th>\n",
       "      <th>label</th>\n",
       "    </tr>\n",
       "  </thead>\n",
       "  <tbody>\n",
       "    <tr>\n",
       "      <th>0</th>\n",
       "      <td>0</td>\n",
       "      <td>House Dem Aide: We Didn’t Even See Comey’s Let...</td>\n",
       "      <td>Darrell Lucus</td>\n",
       "      <td>House Dem Aide: We Didn’t Even See Comey’s Let...</td>\n",
       "      <td>1</td>\n",
       "    </tr>\n",
       "    <tr>\n",
       "      <th>1</th>\n",
       "      <td>1</td>\n",
       "      <td>FLYNN: Hillary Clinton, Big Woman on Campus - ...</td>\n",
       "      <td>Daniel J. Flynn</td>\n",
       "      <td>Ever get the feeling your life circles the rou...</td>\n",
       "      <td>0</td>\n",
       "    </tr>\n",
       "    <tr>\n",
       "      <th>2</th>\n",
       "      <td>2</td>\n",
       "      <td>Why the Truth Might Get You Fired</td>\n",
       "      <td>Consortiumnews.com</td>\n",
       "      <td>Why the Truth Might Get You Fired October 29, ...</td>\n",
       "      <td>1</td>\n",
       "    </tr>\n",
       "    <tr>\n",
       "      <th>3</th>\n",
       "      <td>3</td>\n",
       "      <td>15 Civilians Killed In Single US Airstrike Hav...</td>\n",
       "      <td>Jessica Purkiss</td>\n",
       "      <td>Videos 15 Civilians Killed In Single US Airstr...</td>\n",
       "      <td>1</td>\n",
       "    </tr>\n",
       "    <tr>\n",
       "      <th>4</th>\n",
       "      <td>4</td>\n",
       "      <td>Iranian woman jailed for fictional unpublished...</td>\n",
       "      <td>Howard Portnoy</td>\n",
       "      <td>Print \\nAn Iranian woman has been sentenced to...</td>\n",
       "      <td>1</td>\n",
       "    </tr>\n",
       "    <tr>\n",
       "      <th>...</th>\n",
       "      <td>...</td>\n",
       "      <td>...</td>\n",
       "      <td>...</td>\n",
       "      <td>...</td>\n",
       "      <td>...</td>\n",
       "    </tr>\n",
       "    <tr>\n",
       "      <th>20795</th>\n",
       "      <td>20795</td>\n",
       "      <td>Rapper T.I.: Trump a ’Poster Child For White S...</td>\n",
       "      <td>Jerome Hudson</td>\n",
       "      <td>Rapper T. I. unloaded on black celebrities who...</td>\n",
       "      <td>0</td>\n",
       "    </tr>\n",
       "    <tr>\n",
       "      <th>20796</th>\n",
       "      <td>20796</td>\n",
       "      <td>N.F.L. Playoffs: Schedule, Matchups and Odds -...</td>\n",
       "      <td>Benjamin Hoffman</td>\n",
       "      <td>When the Green Bay Packers lost to the Washing...</td>\n",
       "      <td>0</td>\n",
       "    </tr>\n",
       "    <tr>\n",
       "      <th>20797</th>\n",
       "      <td>20797</td>\n",
       "      <td>Macy’s Is Said to Receive Takeover Approach by...</td>\n",
       "      <td>Michael J. de la Merced and Rachel Abrams</td>\n",
       "      <td>The Macy’s of today grew from the union of sev...</td>\n",
       "      <td>0</td>\n",
       "    </tr>\n",
       "    <tr>\n",
       "      <th>20798</th>\n",
       "      <td>20798</td>\n",
       "      <td>NATO, Russia To Hold Parallel Exercises In Bal...</td>\n",
       "      <td>Alex Ansary</td>\n",
       "      <td>NATO, Russia To Hold Parallel Exercises In Bal...</td>\n",
       "      <td>1</td>\n",
       "    </tr>\n",
       "    <tr>\n",
       "      <th>20799</th>\n",
       "      <td>20799</td>\n",
       "      <td>What Keeps the F-35 Alive</td>\n",
       "      <td>David Swanson</td>\n",
       "      <td>David Swanson is an author, activist, journa...</td>\n",
       "      <td>1</td>\n",
       "    </tr>\n",
       "  </tbody>\n",
       "</table>\n",
       "<p>20800 rows × 5 columns</p>\n",
       "</div>"
      ],
      "text/plain": [
       "          id                                              title  \\\n",
       "0          0  House Dem Aide: We Didn’t Even See Comey’s Let...   \n",
       "1          1  FLYNN: Hillary Clinton, Big Woman on Campus - ...   \n",
       "2          2                  Why the Truth Might Get You Fired   \n",
       "3          3  15 Civilians Killed In Single US Airstrike Hav...   \n",
       "4          4  Iranian woman jailed for fictional unpublished...   \n",
       "...      ...                                                ...   \n",
       "20795  20795  Rapper T.I.: Trump a ’Poster Child For White S...   \n",
       "20796  20796  N.F.L. Playoffs: Schedule, Matchups and Odds -...   \n",
       "20797  20797  Macy’s Is Said to Receive Takeover Approach by...   \n",
       "20798  20798  NATO, Russia To Hold Parallel Exercises In Bal...   \n",
       "20799  20799                          What Keeps the F-35 Alive   \n",
       "\n",
       "                                          author  \\\n",
       "0                                  Darrell Lucus   \n",
       "1                                Daniel J. Flynn   \n",
       "2                             Consortiumnews.com   \n",
       "3                                Jessica Purkiss   \n",
       "4                                 Howard Portnoy   \n",
       "...                                          ...   \n",
       "20795                              Jerome Hudson   \n",
       "20796                           Benjamin Hoffman   \n",
       "20797  Michael J. de la Merced and Rachel Abrams   \n",
       "20798                                Alex Ansary   \n",
       "20799                              David Swanson   \n",
       "\n",
       "                                                    text  label  \n",
       "0      House Dem Aide: We Didn’t Even See Comey’s Let...      1  \n",
       "1      Ever get the feeling your life circles the rou...      0  \n",
       "2      Why the Truth Might Get You Fired October 29, ...      1  \n",
       "3      Videos 15 Civilians Killed In Single US Airstr...      1  \n",
       "4      Print \\nAn Iranian woman has been sentenced to...      1  \n",
       "...                                                  ...    ...  \n",
       "20795  Rapper T. I. unloaded on black celebrities who...      0  \n",
       "20796  When the Green Bay Packers lost to the Washing...      0  \n",
       "20797  The Macy’s of today grew from the union of sev...      0  \n",
       "20798  NATO, Russia To Hold Parallel Exercises In Bal...      1  \n",
       "20799    David Swanson is an author, activist, journa...      1  \n",
       "\n",
       "[20800 rows x 5 columns]"
      ]
     },
     "execution_count": 12,
     "metadata": {},
     "output_type": "execute_result"
    }
   ],
   "source": [
    "df"
   ]
  },
  {
   "cell_type": "code",
   "execution_count": 13,
   "id": "1b7f1088-baba-4958-892d-7b1332b54611",
   "metadata": {},
   "outputs": [],
   "source": [
    "new_df=df[['text','label']]"
   ]
  },
  {
   "cell_type": "code",
   "execution_count": 14,
   "id": "b0173c8a-86b3-4031-ac81-6f4fcf9df286",
   "metadata": {},
   "outputs": [
    {
     "data": {
      "text/html": [
       "<div>\n",
       "<style scoped>\n",
       "    .dataframe tbody tr th:only-of-type {\n",
       "        vertical-align: middle;\n",
       "    }\n",
       "\n",
       "    .dataframe tbody tr th {\n",
       "        vertical-align: top;\n",
       "    }\n",
       "\n",
       "    .dataframe thead th {\n",
       "        text-align: right;\n",
       "    }\n",
       "</style>\n",
       "<table border=\"1\" class=\"dataframe\">\n",
       "  <thead>\n",
       "    <tr style=\"text-align: right;\">\n",
       "      <th></th>\n",
       "      <th>text</th>\n",
       "      <th>label</th>\n",
       "    </tr>\n",
       "  </thead>\n",
       "  <tbody>\n",
       "    <tr>\n",
       "      <th>0</th>\n",
       "      <td>House Dem Aide: We Didn’t Even See Comey’s Let...</td>\n",
       "      <td>1</td>\n",
       "    </tr>\n",
       "    <tr>\n",
       "      <th>1</th>\n",
       "      <td>Ever get the feeling your life circles the rou...</td>\n",
       "      <td>0</td>\n",
       "    </tr>\n",
       "    <tr>\n",
       "      <th>2</th>\n",
       "      <td>Why the Truth Might Get You Fired October 29, ...</td>\n",
       "      <td>1</td>\n",
       "    </tr>\n",
       "    <tr>\n",
       "      <th>3</th>\n",
       "      <td>Videos 15 Civilians Killed In Single US Airstr...</td>\n",
       "      <td>1</td>\n",
       "    </tr>\n",
       "    <tr>\n",
       "      <th>4</th>\n",
       "      <td>Print \\nAn Iranian woman has been sentenced to...</td>\n",
       "      <td>1</td>\n",
       "    </tr>\n",
       "    <tr>\n",
       "      <th>...</th>\n",
       "      <td>...</td>\n",
       "      <td>...</td>\n",
       "    </tr>\n",
       "    <tr>\n",
       "      <th>20795</th>\n",
       "      <td>Rapper T. I. unloaded on black celebrities who...</td>\n",
       "      <td>0</td>\n",
       "    </tr>\n",
       "    <tr>\n",
       "      <th>20796</th>\n",
       "      <td>When the Green Bay Packers lost to the Washing...</td>\n",
       "      <td>0</td>\n",
       "    </tr>\n",
       "    <tr>\n",
       "      <th>20797</th>\n",
       "      <td>The Macy’s of today grew from the union of sev...</td>\n",
       "      <td>0</td>\n",
       "    </tr>\n",
       "    <tr>\n",
       "      <th>20798</th>\n",
       "      <td>NATO, Russia To Hold Parallel Exercises In Bal...</td>\n",
       "      <td>1</td>\n",
       "    </tr>\n",
       "    <tr>\n",
       "      <th>20799</th>\n",
       "      <td>David Swanson is an author, activist, journa...</td>\n",
       "      <td>1</td>\n",
       "    </tr>\n",
       "  </tbody>\n",
       "</table>\n",
       "<p>20800 rows × 2 columns</p>\n",
       "</div>"
      ],
      "text/plain": [
       "                                                    text  label\n",
       "0      House Dem Aide: We Didn’t Even See Comey’s Let...      1\n",
       "1      Ever get the feeling your life circles the rou...      0\n",
       "2      Why the Truth Might Get You Fired October 29, ...      1\n",
       "3      Videos 15 Civilians Killed In Single US Airstr...      1\n",
       "4      Print \\nAn Iranian woman has been sentenced to...      1\n",
       "...                                                  ...    ...\n",
       "20795  Rapper T. I. unloaded on black celebrities who...      0\n",
       "20796  When the Green Bay Packers lost to the Washing...      0\n",
       "20797  The Macy’s of today grew from the union of sev...      0\n",
       "20798  NATO, Russia To Hold Parallel Exercises In Bal...      1\n",
       "20799    David Swanson is an author, activist, journa...      1\n",
       "\n",
       "[20800 rows x 2 columns]"
      ]
     },
     "execution_count": 14,
     "metadata": {},
     "output_type": "execute_result"
    }
   ],
   "source": [
    "new_df"
   ]
  },
  {
   "cell_type": "markdown",
   "id": "97400f83-5c4c-4d1a-8a86-fa592f7085ff",
   "metadata": {},
   "source": [
    "# Cleaning The DATASET"
   ]
  },
  {
   "cell_type": "code",
   "execution_count": 15,
   "id": "1e7980c1-84a2-4169-ac9c-46e62a6f9427",
   "metadata": {},
   "outputs": [],
   "source": [
    "import re\n",
    "from nltk.corpus import stopwords\n",
    "from nltk.stem.porter import PorterStemmer"
   ]
  },
  {
   "cell_type": "code",
   "execution_count": 16,
   "id": "db577574-6b86-48bf-91ce-79bd519b4867",
   "metadata": {},
   "outputs": [],
   "source": [
    "ps=PorterStemmer()"
   ]
  },
  {
   "cell_type": "code",
   "execution_count": 17,
   "id": "09c2b6fa-14b0-43a8-a20c-7f2075646809",
   "metadata": {},
   "outputs": [
    {
     "name": "stderr",
     "output_type": "stream",
     "text": [
      "<ipython-input-17-6e85cdfc03a3>:2: SettingWithCopyWarning: \n",
      "A value is trying to be set on a copy of a slice from a DataFrame.\n",
      "Try using .loc[row_indexer,col_indexer] = value instead\n",
      "\n",
      "See the caveats in the documentation: https://pandas.pydata.org/pandas-docs/stable/user_guide/indexing.html#returning-a-view-versus-a-copy\n",
      "  new_df['summary']=new_df['text'].apply(lambda x: re.sub('[^a-zA-Z]',' ',str(x)))\n",
      "<ipython-input-17-6e85cdfc03a3>:3: SettingWithCopyWarning: \n",
      "A value is trying to be set on a copy of a slice from a DataFrame.\n",
      "Try using .loc[row_indexer,col_indexer] = value instead\n",
      "\n",
      "See the caveats in the documentation: https://pandas.pydata.org/pandas-docs/stable/user_guide/indexing.html#returning-a-view-versus-a-copy\n",
      "  new_df['summary']=new_df['summary'].str.lower()\n",
      "<ipython-input-17-6e85cdfc03a3>:4: SettingWithCopyWarning: \n",
      "A value is trying to be set on a copy of a slice from a DataFrame.\n",
      "Try using .loc[row_indexer,col_indexer] = value instead\n",
      "\n",
      "See the caveats in the documentation: https://pandas.pydata.org/pandas-docs/stable/user_guide/indexing.html#returning-a-view-versus-a-copy\n",
      "  new_df['summary']=new_df['summary'].str.split()\n"
     ]
    },
    {
     "data": {
      "application/vnd.jupyter.widget-view+json": {
       "model_id": "0b3df364df624ba0a999c88f94ecee9d",
       "version_major": 2,
       "version_minor": 0
      },
      "text/plain": [
       "  0%|          | 0/20800 [00:00<?, ?it/s]"
      ]
     },
     "metadata": {},
     "output_type": "display_data"
    },
    {
     "name": "stderr",
     "output_type": "stream",
     "text": [
      "<ipython-input-17-6e85cdfc03a3>:5: SettingWithCopyWarning: \n",
      "A value is trying to be set on a copy of a slice from a DataFrame.\n",
      "Try using .loc[row_indexer,col_indexer] = value instead\n",
      "\n",
      "See the caveats in the documentation: https://pandas.pydata.org/pandas-docs/stable/user_guide/indexing.html#returning-a-view-versus-a-copy\n",
      "  new_df['summary']=new_df['summary'].progress_apply(lambda x:[ps.stem(word) for word in x if not word in stopwords.words('english')])\n",
      "<ipython-input-17-6e85cdfc03a3>:6: SettingWithCopyWarning: \n",
      "A value is trying to be set on a copy of a slice from a DataFrame.\n",
      "Try using .loc[row_indexer,col_indexer] = value instead\n",
      "\n",
      "See the caveats in the documentation: https://pandas.pydata.org/pandas-docs/stable/user_guide/indexing.html#returning-a-view-versus-a-copy\n",
      "  new_df['summary']=new_df['summary'].apply(lambda x: ' '.join(x))\n"
     ]
    }
   ],
   "source": [
    "tqdm_notebook.pandas()\n",
    "new_df['summary']=new_df['text'].apply(lambda x: re.sub('[^a-zA-Z]',' ',str(x)))\n",
    "new_df['summary']=new_df['summary'].str.lower()\n",
    "new_df['summary']=new_df['summary'].str.split()\n",
    "new_df['summary']=new_df['summary'].progress_apply(lambda x:[ps.stem(word) for word in x if not word in stopwords.words('english')])\n",
    "new_df['summary']=new_df['summary'].apply(lambda x: ' '.join(x))"
   ]
  },
  {
   "cell_type": "code",
   "execution_count": 18,
   "id": "ad13bb05-e07b-4000-a02c-b123d9113860",
   "metadata": {},
   "outputs": [
    {
     "data": {
      "text/html": [
       "<div>\n",
       "<style scoped>\n",
       "    .dataframe tbody tr th:only-of-type {\n",
       "        vertical-align: middle;\n",
       "    }\n",
       "\n",
       "    .dataframe tbody tr th {\n",
       "        vertical-align: top;\n",
       "    }\n",
       "\n",
       "    .dataframe thead th {\n",
       "        text-align: right;\n",
       "    }\n",
       "</style>\n",
       "<table border=\"1\" class=\"dataframe\">\n",
       "  <thead>\n",
       "    <tr style=\"text-align: right;\">\n",
       "      <th></th>\n",
       "      <th>text</th>\n",
       "      <th>label</th>\n",
       "      <th>summary</th>\n",
       "    </tr>\n",
       "  </thead>\n",
       "  <tbody>\n",
       "    <tr>\n",
       "      <th>0</th>\n",
       "      <td>House Dem Aide: We Didn’t Even See Comey’s Let...</td>\n",
       "      <td>1</td>\n",
       "      <td>hous dem aid even see comey letter jason chaff...</td>\n",
       "    </tr>\n",
       "    <tr>\n",
       "      <th>1</th>\n",
       "      <td>Ever get the feeling your life circles the rou...</td>\n",
       "      <td>0</td>\n",
       "      <td>ever get feel life circl roundabout rather hea...</td>\n",
       "    </tr>\n",
       "    <tr>\n",
       "      <th>2</th>\n",
       "      <td>Why the Truth Might Get You Fired October 29, ...</td>\n",
       "      <td>1</td>\n",
       "      <td>truth might get fire octob tension intellig an...</td>\n",
       "    </tr>\n",
       "    <tr>\n",
       "      <th>3</th>\n",
       "      <td>Videos 15 Civilians Killed In Single US Airstr...</td>\n",
       "      <td>1</td>\n",
       "      <td>video civilian kill singl us airstrik identifi...</td>\n",
       "    </tr>\n",
       "    <tr>\n",
       "      <th>4</th>\n",
       "      <td>Print \\nAn Iranian woman has been sentenced to...</td>\n",
       "      <td>1</td>\n",
       "      <td>print iranian woman sentenc six year prison ir...</td>\n",
       "    </tr>\n",
       "    <tr>\n",
       "      <th>...</th>\n",
       "      <td>...</td>\n",
       "      <td>...</td>\n",
       "      <td>...</td>\n",
       "    </tr>\n",
       "    <tr>\n",
       "      <th>20795</th>\n",
       "      <td>Rapper T. I. unloaded on black celebrities who...</td>\n",
       "      <td>0</td>\n",
       "      <td>rapper unload black celebr met donald trump el...</td>\n",
       "    </tr>\n",
       "    <tr>\n",
       "      <th>20796</th>\n",
       "      <td>When the Green Bay Packers lost to the Washing...</td>\n",
       "      <td>0</td>\n",
       "      <td>green bay packer lost washington redskin week ...</td>\n",
       "    </tr>\n",
       "    <tr>\n",
       "      <th>20797</th>\n",
       "      <td>The Macy’s of today grew from the union of sev...</td>\n",
       "      <td>0</td>\n",
       "      <td>maci today grew union sever great name america...</td>\n",
       "    </tr>\n",
       "    <tr>\n",
       "      <th>20798</th>\n",
       "      <td>NATO, Russia To Hold Parallel Exercises In Bal...</td>\n",
       "      <td>1</td>\n",
       "      <td>nato russia hold parallel exercis balkan press...</td>\n",
       "    </tr>\n",
       "    <tr>\n",
       "      <th>20799</th>\n",
       "      <td>David Swanson is an author, activist, journa...</td>\n",
       "      <td>1</td>\n",
       "      <td>david swanson author activist journalist radio...</td>\n",
       "    </tr>\n",
       "  </tbody>\n",
       "</table>\n",
       "<p>20800 rows × 3 columns</p>\n",
       "</div>"
      ],
      "text/plain": [
       "                                                    text  label  \\\n",
       "0      House Dem Aide: We Didn’t Even See Comey’s Let...      1   \n",
       "1      Ever get the feeling your life circles the rou...      0   \n",
       "2      Why the Truth Might Get You Fired October 29, ...      1   \n",
       "3      Videos 15 Civilians Killed In Single US Airstr...      1   \n",
       "4      Print \\nAn Iranian woman has been sentenced to...      1   \n",
       "...                                                  ...    ...   \n",
       "20795  Rapper T. I. unloaded on black celebrities who...      0   \n",
       "20796  When the Green Bay Packers lost to the Washing...      0   \n",
       "20797  The Macy’s of today grew from the union of sev...      0   \n",
       "20798  NATO, Russia To Hold Parallel Exercises In Bal...      1   \n",
       "20799    David Swanson is an author, activist, journa...      1   \n",
       "\n",
       "                                                 summary  \n",
       "0      hous dem aid even see comey letter jason chaff...  \n",
       "1      ever get feel life circl roundabout rather hea...  \n",
       "2      truth might get fire octob tension intellig an...  \n",
       "3      video civilian kill singl us airstrik identifi...  \n",
       "4      print iranian woman sentenc six year prison ir...  \n",
       "...                                                  ...  \n",
       "20795  rapper unload black celebr met donald trump el...  \n",
       "20796  green bay packer lost washington redskin week ...  \n",
       "20797  maci today grew union sever great name america...  \n",
       "20798  nato russia hold parallel exercis balkan press...  \n",
       "20799  david swanson author activist journalist radio...  \n",
       "\n",
       "[20800 rows x 3 columns]"
      ]
     },
     "execution_count": 18,
     "metadata": {},
     "output_type": "execute_result"
    }
   ],
   "source": [
    "new_df"
   ]
  },
  {
   "cell_type": "code",
   "execution_count": 143,
   "id": "f1bed8b2-26fd-4061-add4-b728ce97e87a",
   "metadata": {},
   "outputs": [],
   "source": [
    "X=new_df['summary'].values\n",
    "y=new_df['label'].values"
   ]
  },
  {
   "cell_type": "markdown",
   "id": "103ed9bf-f7ec-45b8-bed0-df9a0f8a6564",
   "metadata": {},
   "source": [
    "# Approach 1: Using CountVectorizer"
   ]
  },
  {
   "cell_type": "code",
   "execution_count": 144,
   "id": "55b028c6-736c-43b4-82b9-891b17cc8ce0",
   "metadata": {},
   "outputs": [],
   "source": [
    "from sklearn.feature_extraction.text import CountVectorizer\n",
    "cv=CountVectorizer()"
   ]
  },
  {
   "cell_type": "code",
   "execution_count": 145,
   "id": "7b5bc220-d867-4e8f-a0c7-41e8e5d8e622",
   "metadata": {},
   "outputs": [],
   "source": [
    "X1=cv.fit_transform(X)"
   ]
  },
  {
   "cell_type": "code",
   "execution_count": 146,
   "id": "aa1058eb-a13d-4f7b-8512-78aa7ba3c1d2",
   "metadata": {},
   "outputs": [
    {
     "name": "stdout",
     "output_type": "stream",
     "text": [
      "  (0, 43806)\t6\n",
      "  (0, 23700)\t2\n",
      "  (0, 1870)\t5\n",
      "  (0, 31125)\t4\n",
      "  (0, 86453)\t3\n",
      "  (0, 18947)\t10\n",
      "  (0, 55291)\t7\n",
      "  (0, 48287)\t5\n",
      "  (0, 16168)\t14\n",
      "  (0, 100055)\t5\n",
      "  (0, 22668)\t5\n",
      "  (0, 57198)\t2\n",
      "  (0, 69116)\t2\n",
      "  (0, 93327)\t1\n",
      "  (0, 93111)\t1\n",
      "  (0, 3353)\t1\n",
      "  (0, 34391)\t1\n",
      "  (0, 102455)\t2\n",
      "  (0, 45245)\t1\n",
      "  (0, 20761)\t2\n",
      "  (0, 61642)\t1\n",
      "  (0, 49216)\t1\n",
      "  (0, 6904)\t1\n",
      "  (0, 21055)\t1\n",
      "  (0, 19043)\t1\n",
      "  :\t:\n",
      "  (20799, 107985)\t1\n",
      "  (20799, 105803)\t1\n",
      "  (20799, 104292)\t1\n",
      "  (20799, 88137)\t1\n",
      "  (20799, 47649)\t2\n",
      "  (20799, 107314)\t1\n",
      "  (20799, 39111)\t1\n",
      "  (20799, 77424)\t1\n",
      "  (20799, 50306)\t1\n",
      "  (20799, 34035)\t3\n",
      "  (20799, 69736)\t1\n",
      "  (20799, 107935)\t1\n",
      "  (20799, 92683)\t1\n",
      "  (20799, 107871)\t1\n",
      "  (20799, 22845)\t5\n",
      "  (20799, 105493)\t3\n",
      "  (20799, 809)\t1\n",
      "  (20799, 22820)\t1\n",
      "  (20799, 95105)\t1\n",
      "  (20799, 20696)\t1\n",
      "  (20799, 101928)\t1\n",
      "  (20799, 32004)\t2\n",
      "  (20799, 101118)\t1\n",
      "  (20799, 25228)\t1\n",
      "  (20799, 23286)\t1\n"
     ]
    }
   ],
   "source": [
    "print(X1)"
   ]
  },
  {
   "cell_type": "code",
   "execution_count": 167,
   "id": "d2e68679-e105-43c7-897e-2fee01996bb4",
   "metadata": {},
   "outputs": [],
   "source": [
    "X_train, X_test, y_train, y_test = train_test_split(X1, y, test_size=0.2, random_state=42)"
   ]
  },
  {
   "cell_type": "code",
   "execution_count": 168,
   "id": "ea6cf2f4-e1ea-402c-bc3d-60b5cdb7a05c",
   "metadata": {},
   "outputs": [],
   "source": [
    "from sklearn.linear_model import LogisticRegression\n",
    "lr_model=LogisticRegression()"
   ]
  },
  {
   "cell_type": "code",
   "execution_count": 169,
   "id": "2d4039a3-e80b-4c98-aebf-c982dfca4d32",
   "metadata": {},
   "outputs": [
    {
     "name": "stderr",
     "output_type": "stream",
     "text": [
      "/opt/anaconda3/lib/python3.8/site-packages/sklearn/linear_model/_logistic.py:763: ConvergenceWarning: lbfgs failed to converge (status=1):\n",
      "STOP: TOTAL NO. of ITERATIONS REACHED LIMIT.\n",
      "\n",
      "Increase the number of iterations (max_iter) or scale the data as shown in:\n",
      "    https://scikit-learn.org/stable/modules/preprocessing.html\n",
      "Please also refer to the documentation for alternative solver options:\n",
      "    https://scikit-learn.org/stable/modules/linear_model.html#logistic-regression\n",
      "  n_iter_i = _check_optimize_result(\n"
     ]
    },
    {
     "data": {
      "text/plain": [
       "LogisticRegression()"
      ]
     },
     "execution_count": 169,
     "metadata": {},
     "output_type": "execute_result"
    }
   ],
   "source": [
    "lr_model.fit(X_train,y_train)"
   ]
  },
  {
   "cell_type": "code",
   "execution_count": 170,
   "id": "e80e09e9-d4f2-45d9-9237-094ad344acfa",
   "metadata": {},
   "outputs": [],
   "source": [
    "y_pred1=lr_model.predict(X_test)"
   ]
  },
  {
   "cell_type": "code",
   "execution_count": 171,
   "id": "75550eb0-14f7-4bc1-ab4f-880cd18c9585",
   "metadata": {},
   "outputs": [
    {
     "name": "stdout",
     "output_type": "stream",
     "text": [
      "0.9490384615384615\n"
     ]
    }
   ],
   "source": [
    "logisticRegression_accuracy=accuracy_score(y_test,y_pred1)\n",
    "print(logisticRegression_accuracy)"
   ]
  },
  {
   "cell_type": "code",
   "execution_count": 172,
   "id": "31319773-df73-40a2-b7d1-1ad2eeb05582",
   "metadata": {},
   "outputs": [],
   "source": [
    "from sklearn.tree import DecisionTreeClassifier\n",
    "dtc_model=DecisionTreeClassifier()"
   ]
  },
  {
   "cell_type": "code",
   "execution_count": 173,
   "id": "63144593-b716-4f9b-b888-680bf3d0b142",
   "metadata": {},
   "outputs": [
    {
     "data": {
      "text/plain": [
       "DecisionTreeClassifier()"
      ]
     },
     "execution_count": 173,
     "metadata": {},
     "output_type": "execute_result"
    }
   ],
   "source": [
    "dtc_model.fit(X_train,y_train)"
   ]
  },
  {
   "cell_type": "code",
   "execution_count": 174,
   "id": "b090c047-3dfc-4b04-b4d5-22ab11b6b1a5",
   "metadata": {},
   "outputs": [],
   "source": [
    "y_pred1=dtc_model.predict(X_test)"
   ]
  },
  {
   "cell_type": "code",
   "execution_count": 175,
   "id": "d3770ce6-393a-4809-9c01-6709c43d999e",
   "metadata": {},
   "outputs": [
    {
     "name": "stdout",
     "output_type": "stream",
     "text": [
      "0.8896634615384615\n"
     ]
    }
   ],
   "source": [
    "Decisiontree_accuracy=accuracy_score(y_test,y_pred1)\n",
    "print(Decisiontree_accuracy)"
   ]
  },
  {
   "cell_type": "code",
   "execution_count": 176,
   "id": "5765a762-b52f-4d25-b2ab-39b7c479e00c",
   "metadata": {},
   "outputs": [],
   "source": [
    "from sklearn.ensemble  import RandomForestClassifier\n",
    "Rf_model=RandomForestClassifier()"
   ]
  },
  {
   "cell_type": "code",
   "execution_count": 177,
   "id": "ed3376cd-bab3-452f-ab6b-0fdee28e161e",
   "metadata": {},
   "outputs": [
    {
     "data": {
      "text/plain": [
       "RandomForestClassifier()"
      ]
     },
     "execution_count": 177,
     "metadata": {},
     "output_type": "execute_result"
    }
   ],
   "source": [
    "Rf_model.fit(X_train,y_train)\n"
   ]
  },
  {
   "cell_type": "code",
   "execution_count": 178,
   "id": "05a80432-d874-47e6-a53c-da0ddd5b5486",
   "metadata": {},
   "outputs": [],
   "source": [
    "y_pred1=Rf_model.predict(X_test)"
   ]
  },
  {
   "cell_type": "code",
   "execution_count": 179,
   "id": "efbd2f62-14d6-4751-829b-5a4b805980cf",
   "metadata": {},
   "outputs": [
    {
     "name": "stdout",
     "output_type": "stream",
     "text": [
      "0.9067307692307692\n"
     ]
    }
   ],
   "source": [
    "RandomForrest_accuracy=accuracy_score(y_test,y_pred1)\n",
    "print(RandomForrest_accuracy)"
   ]
  },
  {
   "cell_type": "code",
   "execution_count": 180,
   "id": "8a532312-9333-44a2-92e3-cd317fab859a",
   "metadata": {},
   "outputs": [],
   "source": [
    "dict={'Logistic_Regression':logisticRegression_accuracy,'Decision_Tree_Classifier':Decisiontree_accuracy,'Random_Forrest_Classifier':RandomForrest_accuracy}"
   ]
  },
  {
   "cell_type": "code",
   "execution_count": 181,
   "id": "194dee8d-4fc7-44ae-ac67-f8681a2fd967",
   "metadata": {},
   "outputs": [
    {
     "data": {
      "text/plain": [
       "([0, 1, 2], [Text(0, 0, ''), Text(0, 0, ''), Text(0, 0, '')])"
      ]
     },
     "execution_count": 181,
     "metadata": {},
     "output_type": "execute_result"
    },
    {
     "data": {
      "image/png": "[encoded data removed]",
      "text/plain": [
       "<Figure size 432x288 with 1 Axes>"
      ]
     },
     "metadata": {
      "needs_background": "light"
     },
     "output_type": "display_data"
    }
   ],
   "source": [
    "plt.bar(dict.keys(),dict.values())\n",
    "plt.xticks(rotation=45)"
   ]
  },
  {
   "cell_type": "code",
   "execution_count": null,
   "id": "a2014c8b-cf80-4d6e-b24e-67814e9587db",
   "metadata": {},
   "outputs": [],
   "source": []
  },
  {
   "cell_type": "markdown",
   "id": "9390274a-247f-4ab8-954c-01f11ede707b",
   "metadata": {},
   "source": [
    "# Approach 2: Using TF-IDF Vectorizer"
   ]
  },
  {
   "cell_type": "code",
   "execution_count": 182,
   "id": "74f770a2-dcba-4471-a937-d38372df46b3",
   "metadata": {},
   "outputs": [],
   "source": [
    "from sklearn.feature_extraction.text import TfidfVectorizer\n",
    "tf=TfidfVectorizer()"
   ]
  },
  {
   "cell_type": "code",
   "execution_count": 183,
   "id": "00e4d0a0-7f34-47b5-b6be-cdfd73e8ddb3",
   "metadata": {},
   "outputs": [],
   "source": [
    "X2=tf.fit_transform(X)"
   ]
  },
  {
   "cell_type": "code",
   "execution_count": 184,
   "id": "7486ca32-c8f5-4475-a159-e18b02389736",
   "metadata": {},
   "outputs": [
    {
     "name": "stdout",
     "output_type": "stream",
     "text": [
      "  (0, 108701)\t0.05247338102196001\n",
      "  (0, 60894)\t0.04977522431614742\n",
      "  (0, 14011)\t0.022650199700101917\n",
      "  (0, 18111)\t0.02595356690739122\n",
      "  (0, 31860)\t0.019807643558105444\n",
      "  (0, 19610)\t0.041541061746287924\n",
      "  (0, 22669)\t0.052974718842920376\n",
      "  (0, 34144)\t0.013126964262377201\n",
      "  (0, 65982)\t0.041928694943766255\n",
      "  (0, 59308)\t0.02851413144837899\n",
      "  (0, 97124)\t0.01545573924537872\n",
      "  (0, 517)\t0.024551746105000903\n",
      "  (0, 94179)\t0.024262657710788473\n",
      "  (0, 45777)\t0.01879038027256228\n",
      "  (0, 88866)\t0.028440996916737207\n",
      "  (0, 85365)\t0.0292256336351807\n",
      "  (0, 91927)\t0.018001202950301432\n",
      "  (0, 24365)\t0.025521903922259743\n",
      "  (0, 55511)\t0.02086277670962608\n",
      "  (0, 100755)\t0.040639365493345306\n",
      "  (0, 17279)\t0.050334317477421654\n",
      "  (0, 16406)\t0.040937678019131604\n",
      "  (0, 67145)\t0.032772062041944196\n",
      "  (0, 93405)\t0.02747104277004444\n",
      "  (0, 18734)\t0.02211346117644084\n",
      "  :\t:\n",
      "  (20799, 43872)\t0.013959693951617893\n",
      "  (20799, 95096)\t0.04008258530809699\n",
      "  (20799, 33384)\t0.05242746778390489\n",
      "  (20799, 58222)\t0.013048403922102953\n",
      "  (20799, 38670)\t0.014760934183136046\n",
      "  (20799, 80348)\t0.02118123093078061\n",
      "  (20799, 38739)\t0.022557683584628025\n",
      "  (20799, 100107)\t0.012704454037919229\n",
      "  (20799, 65764)\t0.05130290310145111\n",
      "  (20799, 107620)\t0.029944913998399006\n",
      "  (20799, 108648)\t0.033686276474423654\n",
      "  (20799, 54721)\t0.0271015552516465\n",
      "  (20799, 46267)\t0.017021980183180664\n",
      "  (20799, 59745)\t0.029461728837512958\n",
      "  (20799, 56168)\t0.013813594692998511\n",
      "  (20799, 15322)\t0.025652801174290293\n",
      "  (20799, 56685)\t0.012094477766714554\n",
      "  (20799, 3018)\t0.050314858700564874\n",
      "  (20799, 25380)\t0.043376500229443365\n",
      "  (20799, 107657)\t0.05557344392438183\n",
      "  (20799, 69116)\t0.015420240011933758\n",
      "  (20799, 86453)\t0.010989925494669291\n",
      "  (20799, 31125)\t0.03740955807775191\n",
      "  (20799, 1870)\t0.034058715138198324\n",
      "  (20799, 43806)\t0.03594031745688128\n"
     ]
    }
   ],
   "source": [
    "print(X2)"
   ]
  },
  {
   "cell_type": "code",
   "execution_count": 185,
   "id": "6fd8c848-1f2f-4236-bb30-a32f4ced747f",
   "metadata": {},
   "outputs": [],
   "source": [
    "X_train, X_test, y_train, y_test = train_test_split(X2, y, test_size=0.2, random_state=42)"
   ]
  },
  {
   "cell_type": "code",
   "execution_count": 192,
   "id": "3fbbfe12-bec2-4c5e-b86e-ee8d28c1abe8",
   "metadata": {},
   "outputs": [
    {
     "name": "stdout",
     "output_type": "stream",
     "text": [
      "0.9439903846153846\n"
     ]
    }
   ],
   "source": [
    "from sklearn.linear_model import LogisticRegression\n",
    "lr_model=LogisticRegression()\n",
    "lr_model.fit(X_train,y_train)\n",
    "y_pred2=lr_model.predict(X_test)\n",
    "logisticRegression_accuracy=accuracy_score(y_test,y_pred2)\n",
    "print(logisticRegression_accuracy)"
   ]
  },
  {
   "cell_type": "code",
   "execution_count": 187,
   "id": "76d5bfe0-ad2a-43ca-8348-e9375c4bdc77",
   "metadata": {},
   "outputs": [
    {
     "name": "stdout",
     "output_type": "stream",
     "text": [
      "0.88125\n"
     ]
    }
   ],
   "source": [
    "from sklearn.tree import DecisionTreeClassifier\n",
    "dtc_model=DecisionTreeClassifier()\n",
    "dtc_model.fit(X_train,y_train)\n",
    "y_pred2=dtc_model.predict(X_test)\n",
    "Decisiontree_accuracy=accuracy_score(y_test,y_pred2)\n",
    "print(Decisiontree_accuracy)"
   ]
  },
  {
   "cell_type": "code",
   "execution_count": 188,
   "id": "b8298954-c2d5-46b8-95c1-c18efcee68c6",
   "metadata": {},
   "outputs": [
    {
     "name": "stdout",
     "output_type": "stream",
     "text": [
      "0.9163461538461538\n"
     ]
    }
   ],
   "source": [
    "from sklearn.ensemble import RandomForestClassifier\n",
    "Rf_model=RandomForestClassifier()\n",
    "Rf_model.fit(X_train,y_train)\n",
    "y_pred2=Rf_model.predict(X_test)\n",
    "RandomForrest_accuracy=accuracy_score(y_test,y_pred2)\n",
    "print(RandomForrest_accuracy)"
   ]
  },
  {
   "cell_type": "code",
   "execution_count": 189,
   "id": "7bb075c8-688e-4bca-a4b1-31948ce410b5",
   "metadata": {},
   "outputs": [],
   "source": [
    "dict={'Logistic_Regression':logisticRegression_accuracy,'Decision_Tree_Classifier':Decisiontree_accuracy,'Random_Forest_Classifier':RandomForrest_accuracy}"
   ]
  },
  {
   "cell_type": "code",
   "execution_count": 190,
   "id": "0d97d9de-9f22-4599-9f73-5f0e4c9e7104",
   "metadata": {},
   "outputs": [
    {
     "data": {
      "text/plain": [
       "Text(0.5, 1.0, 'Tf-IDF Vectorizer')"
      ]
     },
     "execution_count": 190,
     "metadata": {},
     "output_type": "execute_result"
    },
    {
     "data": {
      "image/png": "[encoded data removed]",
      "text/plain": [
       "<Figure size 432x288 with 1 Axes>"
      ]
     },
     "metadata": {
      "needs_background": "light"
     },
     "output_type": "display_data"
    }
   ],
   "source": [
    "plt.bar(dict.keys(),dict.values())\n",
    "plt.xticks(rotation=45);\n",
    "plt.title('Tf-IDF Vectorizer')"
   ]
  },
  {
   "cell_type": "markdown",
   "id": "1a67fcb3-b549-4544-82c8-2d700f0114de",
   "metadata": {},
   "source": [
    "# We see that both that both the approach's CountVectorizer and TF-IDF Vectorizer both performed equally well."
   ]
  },
  {
   "cell_type": "code",
   "execution_count": null,
   "id": "a710b710-3125-4de0-bf8d-a1351a024423",
   "metadata": {},
   "outputs": [],
   "source": []
  }
 ],
 "metadata": {
  "kernelspec": {
   "display_name": "Python 3",
   "language": "python",
   "name": "python3"
  },
  "language_info": {
   "codemirror_mode": {
    "name": "ipython",
    "version": 3
   },
   "file_extension": ".py",
   "mimetype": "text/x-python",
   "name": "python",
   "nbconvert_exporter": "python",
   "pygments_lexer": "ipython3",
   "version": "3.8.8"
  }
 },
 "nbformat": 4,
 "nbformat_minor": 5
}
